{
 "cells": [
  {
   "cell_type": "markdown",
   "metadata": {},
   "source": [
    "# 基于RNN模型进行文本分类任务 "
   ]
  },
  {
   "cell_type": "markdown",
   "metadata": {},
   "source": [
    "## 导入影评数据"
   ]
  },
  {
   "cell_type": "code",
   "execution_count": 1,
   "metadata": {},
   "outputs": [],
   "source": [
    "import os\n",
    "import warnings\n",
    "warnings.filterwarnings(\"ignore\")\n",
    "import tensorflow as tf\n",
    "import numpy as np\n",
    "import pprint\n",
    "import logging\n",
    "import time\n",
    "from collections import Counter\n",
    "from pathlib import Path\n",
    "from tqdm import tqdm"
   ]
  },
  {
   "cell_type": "code",
   "execution_count": 2,
   "metadata": {},
   "outputs": [],
   "source": [
    "(x_train,y_train),(x_test,y_test) = tf.keras.datasets.imdb.load_data()"
   ]
  },
  {
   "cell_type": "code",
   "execution_count": null,
   "metadata": {},
   "outputs": [],
   "source": [
    "x_train.shape"
   ]
  },
  {
   "cell_type": "code",
   "execution_count": null,
   "metadata": {},
   "outputs": [],
   "source": [
    "y_train[0]"
   ]
  },
  {
   "cell_type": "code",
   "execution_count": 3,
   "metadata": {},
   "outputs": [],
   "source": [
    "word2id = tf.keras.datasets.imdb.get_word_index()"
   ]
  },
  {
   "cell_type": "code",
   "execution_count": 4,
   "metadata": {},
   "outputs": [],
   "source": [
    "np.save(\"./imdb/word2id.npy\",word2id)"
   ]
  },
  {
   "cell_type": "code",
   "execution_count": 5,
   "metadata": {},
   "outputs": [],
   "source": [
    "word2id = {w:i+3 for w,i in word2id.items()}\n",
    "word2id['<pad>'] = 0\n",
    "word2id['<start>'] = 1\n",
    "word2id['<unk>'] = 2\n",
    "id2word = {i:w for w,i in word2id.items()}"
   ]
  },
  {
   "cell_type": "code",
   "execution_count": 6,
   "metadata": {},
   "outputs": [],
   "source": [
    "def sort_by_len(x,y):\n",
    "    x,y = np.asarray(x),np.asarray(y)\n",
    "    idx = sorted(range(len(x)),key=lambda i:len(x[i]))\n",
    "    return x[idx],y[idx]"
   ]
  },
  {
   "cell_type": "code",
   "execution_count": 7,
   "metadata": {},
   "outputs": [],
   "source": [
    "x_train,y_train = sort_by_len(x_train,y_train)\n",
    "x_test,y_test = sort_by_len(x_test,y_test)\n",
    "\n",
    "# 这个word2id是包含test集中的词的\n",
    "def write_file(path,xs,ys):\n",
    "    with open(path,'w',encoding='utf-8') as f:\n",
    "        for x,y in zip(xs,ys):\n",
    "            f.write(str(y)+'\\t'+' '.join([id2word[i] for i in x][1:]) + \"\\n\")\n",
    "\n",
    "write_file(\"./imdb/train.txt\",x_train,y_train)\n",
    "write_file(\"./imdb/test.txt\",x_test,y_test)                  "
   ]
  },
  {
   "cell_type": "markdown",
   "metadata": {},
   "source": [
    "## 构建语料表，基于词频进行统计"
   ]
  },
  {
   "cell_type": "code",
   "execution_count": 8,
   "metadata": {},
   "outputs": [],
   "source": [
    "# 就是构建词典,去掉不常用的词（词频很低的词）\n",
    "counter = Counter()\n",
    "with open(\"./imdb/train.txt\",'r',encoding='utf-8') as f:\n",
    "    for line in f:\n",
    "        line = line.strip()\n",
    "        label,words = line.split('\\t')\n",
    "        words = words.split(' ')\n",
    "        counter.update(words)\n",
    "\n",
    "words = ['<pad>'] + [w for w,fre in counter.most_common() if fre >= 10]\n",
    "\n",
    "with open(\"./imdb/words.txt\",'w',encoding='utf-8') as f:\n",
    "    for w in words:\n",
    "        f.write(w+'\\n')"
   ]
  },
  {
   "cell_type": "markdown",
   "metadata": {},
   "source": [
    "## 得到新的word2id"
   ]
  },
  {
   "cell_type": "code",
   "execution_count": 9,
   "metadata": {},
   "outputs": [],
   "source": [
    "word2id = {}\n",
    "# 得到新的word2id\n",
    "with open(\"./imdb/words.txt\",'r',encoding='utf-8') as f:\n",
    "    for i,line in enumerate(f):\n",
    "        line = line.strip()\n",
    "        word2id[line] = i"
   ]
  },
  {
   "cell_type": "markdown",
   "metadata": {},
   "source": [
    "## embedding层"
   ]
  },
  {
   "cell_type": "code",
   "execution_count": 10,
   "metadata": {},
   "outputs": [
    {
     "name": "stdout",
     "output_type": "stream",
     "text": [
      "-At line0\n",
      "-At line100000\n",
      "-At line200000\n",
      "-At line300000\n"
     ]
    }
   ],
   "source": [
    "embeddings = np.zeros((len(word2id)+1,50))\n",
    "# len(word2id)：表示unk (unk用全零表示？)\n",
    "# 0：表示pad\n",
    "\n",
    "with open('./imdb/glove.6B/glove.6B.50d.txt',encoding='utf-8') as f:\n",
    "    count = 0\n",
    "    for i,line in enumerate(f):\n",
    "        if i % 100000 == 0:\n",
    "            print(\"-At line{}\".format(i))\n",
    "        line = line.strip()\n",
    "        sp = line.split(\" \")\n",
    "        word,vec = sp[0],sp[1:]\n",
    "        if word in word2id:\n",
    "            count += 1\n",
    "            embeddings[word2id[word]] = np.asarray(vec,dtype='float32')"
   ]
  },
  {
   "cell_type": "code",
   "execution_count": 11,
   "metadata": {},
   "outputs": [
    {
     "name": "stdout",
     "output_type": "stream",
     "text": [
      "19676 20598\n"
     ]
    }
   ],
   "source": [
    "print(count,len(word2id))"
   ]
  },
  {
   "cell_type": "code",
   "execution_count": 12,
   "metadata": {},
   "outputs": [],
   "source": [
    "np.save('./imdb/word.npy',embeddings)"
   ]
  },
  {
   "cell_type": "markdown",
   "metadata": {},
   "source": [
    "## 训练数据"
   ]
  },
  {
   "cell_type": "markdown",
   "metadata": {},
   "source": [
    "- tf.data.Dataset.from_tensor_slices(tensor)\n",
    "- tf.data.Dataset.from_generator(data_generator,output_data_type,output_data_shape)"
   ]
  },
  {
   "cell_type": "code",
   "execution_count": 13,
   "metadata": {},
   "outputs": [],
   "source": [
    "def data_generator(path,params):\n",
    "    with open(path,encoding='utf-8') as f:\n",
    "        for line in f:\n",
    "            line = line.strip()\n",
    "            label,text = line.split(\"\\t\")\n",
    "            text = text.split(\" \")\n",
    "            x = [word2id.get(w,len(word2id)) for w in text]\n",
    "            if len(x) >= params['max_len']:\n",
    "                x = x[:params['max_len']] # 截断\n",
    "            else:\n",
    "                x += [0] * (params['max_len']-len(x)) # 补齐\n",
    "            y = int(label)\n",
    "            yield x,y"
   ]
  },
  {
   "cell_type": "code",
   "execution_count": 14,
   "metadata": {},
   "outputs": [],
   "source": [
    "def dataset(is_training,params):\n",
    "    _shapes = ([params['max_len']],())\n",
    "    _types = (tf.int32,tf.int32)\n",
    "    \n",
    "    if is_training:\n",
    "        ds = tf.data.Dataset.from_generator(\n",
    "            lambda:data_generator(params['training_path'],params),\n",
    "            output_shapes=_shapes,\n",
    "            output_types=_types)\n",
    "        ds = ds.shuffle(params['num_samples'])\n",
    "        ds = ds.batch(params['batch_size'])\n",
    "        ds = ds.prefetch(tf.data.experimental.AUTOTUNE)\n",
    "    else:\n",
    "        ds = tf.data.Dataset.from_generator(\n",
    "            lambda:data_generator(params['test_path'],params),\n",
    "            output_shapes=_shapes,\n",
    "            output_types=_types)\n",
    "        ds = ds.batch(params['batch_size'])\n",
    "        ds = ds.prefetch(tf.data.experimental.AUTOTUNE)\n",
    "        \n",
    "    return ds"
   ]
  },
  {
   "cell_type": "markdown",
   "metadata": {},
   "source": [
    "## 自定义网络模型"
   ]
  },
  {
   "cell_type": "code",
   "execution_count": 15,
   "metadata": {},
   "outputs": [],
   "source": [
    "class Model(tf.keras.Model):\n",
    "    def __init__(self,params):\n",
    "        super().__init__()\n",
    "        \n",
    "        self.embedding = tf.Variable(np.load('./imdb/word.npy'),dtype=tf.float32,name='pretrained_embedding',trainable=False)\n",
    "        \n",
    "        self.drop1 = tf.keras.layers.Dropout(params['dropout_rate'])\n",
    "        self.drop2 = tf.keras.layers.Dropout(params['dropout_rate'])\n",
    "        self.drop3 = tf.keras.layers.Dropout(params['dropout_rate'])\n",
    "        \n",
    "        self.rnn1 = tf.keras.layers.Bidirectional(tf.keras.layers.LSTM(params['rnn_units'],return_sequences=True))\n",
    "        self.rnn2 = tf.keras.layers.Bidirectional(tf.keras.layers.LSTM(params['rnn_units'],return_sequences=True))\n",
    "        self.rnn3 = tf.keras.layers.Bidirectional(tf.keras.layers.LSTM(params['rnn_units'],return_sequences=False))\n",
    "        \n",
    "        self.drop_fc = tf.keras.layers.Dropout(params['dropout_rate'])\n",
    "        self.fc = tf.keras.layers.Dense(2*params['rnn_units'],tf.nn.elu)\n",
    "        \n",
    "        self.out_linear = tf.keras.layers.Dense(2)\n",
    "        \n",
    "    def call(self,inputs,training=False):\n",
    "        if inputs.dtype != tf.int32:\n",
    "            inputs = tf.cast(inputs,tf.int32)\n",
    "        \n",
    "        batch_sz = tf.shape(inputs)[0] \n",
    "        rnn_units = 2*params['rnn_units']\n",
    "        \n",
    "        x = tf.nn.embedding_lookup(self.embedding,inputs) # inputs:batch x max_len; x: batch x max_len x 50\n",
    "        \n",
    "        x = self.drop1(x,training=training)\n",
    "        x = self.rnn1(x)\n",
    "        \n",
    "        x = self.drop2(x,training=training)\n",
    "        x = self.rnn2(x)\n",
    "        \n",
    "        x = self.drop3(x,training=training)\n",
    "        x = self.rnn3(x)\n",
    "        \n",
    "        x = self.drop_fc(x,training=training)\n",
    "        x = self.fc(x)\n",
    "        \n",
    "        x = self.out_linear(x)\n",
    "        \n",
    "        return x"
   ]
  },
  {
   "cell_type": "code",
   "execution_count": null,
   "metadata": {},
   "outputs": [],
   "source": [
    "class Model(tf.keras.Model):\n",
    "    def __init__(self,params):\n",
    "        super().__init__()\n",
    "        \n",
    "        self.embedding = tf.Variable(np.load('./imdb/word.npy'),dtype=tf.float32,name='pretrained_embedding',trainable=False)\n",
    "        \n",
    "        self.drop1 = tf.keras.layers.Dropout(params['dropout_rate'])\n",
    "        self.drop2 = tf.keras.layers.Dropout(params['dropout_rate'])\n",
    "        self.drop3 = tf.keras.layers.Dropout(params['dropout_rate'])\n",
    "        \n",
    "        self.rnn1 = tf.keras.layers.Bidirectional(tf.keras.layers.LSTM(params['rnn_units'],return_sequences=True))\n",
    "        self.rnn2 = tf.keras.layers.Bidirectional(tf.keras.layers.LSTM(params['rnn_units'],return_sequences=True))\n",
    "        self.rnn3 = tf.keras.layers.Bidirectional(tf.keras.layers.LSTM(params['rnn_units'],return_sequences=True))\n",
    "        \n",
    "        self.drop_fc = tf.keras.layers.Dropout(params['dropout_rate'])\n",
    "        self.fc = tf.keras.layers.Dense(2*params['rnn_units'],tf.nn.elu)\n",
    "        \n",
    "        self.out_linear = tf.keras.layers.Dense(2)\n",
    "        \n",
    "    def call(self,inputs,training=False):\n",
    "        if inputs.dtype != tf.int32:\n",
    "            inputs = tf.cast(inputs,tf.int32)\n",
    "        \n",
    "        batch_sz = tf.shape(inputs)[0] \n",
    "        rnn_units = 2*params['rnn_units']\n",
    "        \n",
    "        x = tf.nn.embedding_lookup(self.embedding,inputs) # inputs:batch x max_len; x: batch x max_len x 50\n",
    "        \n",
    "        x = tf.reshape(x,(batch_sz*10,10,50)) #(None,10,50)\n",
    "        x = self.drop1(x,training=training)\n",
    "        x = self.rnn1(x)\n",
    "        x = tf.reduce_max(x,1)\n",
    "        \n",
    "        x = tf.reshape(x,(batch_sz*10,10,rnn_units))\n",
    "        x = self.drop2(x,training=training)\n",
    "        x = self.rnn2(x)\n",
    "        x = tf.reduce_max(x,1)\n",
    "        \n",
    "        x = tf.reshape(x,(batch_sz,10,rnn_units))\n",
    "        x = self.drop3(x,training=training)\n",
    "        x = self.rnn3(x)\n",
    "        x = tf.reduce_max(x,1)\n",
    "        \n",
    "        x = self.drop_fc(x,training=training)\n",
    "        x = self.fc(x)\n",
    "        \n",
    "        x = self.out_linear(x)\n",
    "        \n",
    "        return x"
   ]
  },
  {
   "cell_type": "markdown",
   "metadata": {},
   "source": [
    "## 超参数"
   ]
  },
  {
   "cell_type": "code",
   "execution_count": 16,
   "metadata": {},
   "outputs": [],
   "source": [
    "params = {\n",
    "    'vocab_path':'./imdb/words.txt',\n",
    "    'training_path':'./imdb/train.txt',\n",
    "    'test_path':'./imdb/test.txt',\n",
    "    'num_samples':25000,\n",
    "    'num_labels':2,\n",
    "    'batch_size':32,\n",
    "    'max_len':300,\n",
    "    'rnn_units':200,\n",
    "    'dropout_rate':0.2,\n",
    "    'clip_norm':10, # 梯度截断\n",
    "    'num_patience':3,\n",
    "    'lr':3e-4\n",
    "}"
   ]
  },
  {
   "cell_type": "code",
   "execution_count": 17,
   "metadata": {},
   "outputs": [],
   "source": [
    "def is_descending(history):\n",
    "    history = history[-(params['num_patience']+1):]\n",
    "    for i in range(1,len(history)):\n",
    "        if history[i-1] <= history[i]:\n",
    "            return False\n",
    "    return True"
   ]
  },
  {
   "cell_type": "code",
   "execution_count": 18,
   "metadata": {},
   "outputs": [],
   "source": [
    "word2id = {}\n",
    "with open(\"./imdb/words.txt\",'r',encoding='utf-8') as f:\n",
    "    for i,line in enumerate(f):\n",
    "        line = line.strip()\n",
    "        word2id[line] = i\n",
    "params['vocab_size'] = len(word2id)+1\n",
    "\n",
    "model = Model(params)\n",
    "model.build(input_shape=(None,None))\n",
    "\n",
    "decay_lr = tf.optimizers.schedules.ExponentialDecay(params['lr'],1000,0.95)\n",
    "optim = tf.optimizers.Adam(params['lr'])\n",
    "global_step = 0\n",
    "\n",
    "history_acc = []\n",
    "best_acc = 0\n",
    "\n",
    "t0 = time.time()\n",
    "logger = logging.getLogger('tensorflow')\n",
    "logger.setLevel(logging.INFO)"
   ]
  },
  {
   "cell_type": "code",
   "execution_count": 20,
   "metadata": {},
   "outputs": [
    {
     "ename": "TypeError",
     "evalue": "unsupported operand type(s) for -: 'builtin_function_or_method' and 'float'",
     "output_type": "error",
     "traceback": [
      "\u001b[1;31m---------------------------------------------------------------------------\u001b[0m",
      "\u001b[1;31mTypeError\u001b[0m                                 Traceback (most recent call last)",
      "\u001b[1;32m<ipython-input-20-a3ab1de146a6>\u001b[0m in \u001b[0;36m<module>\u001b[1;34m\u001b[0m\n\u001b[0;32m     13\u001b[0m \u001b[1;33m\u001b[0m\u001b[0m\n\u001b[0;32m     14\u001b[0m         \u001b[1;32mif\u001b[0m \u001b[0mglobal_step\u001b[0m \u001b[1;33m%\u001b[0m \u001b[1;36m50\u001b[0m \u001b[1;33m==\u001b[0m \u001b[1;36m0\u001b[0m\u001b[1;33m:\u001b[0m\u001b[1;33m\u001b[0m\u001b[1;33m\u001b[0m\u001b[0m\n\u001b[1;32m---> 15\u001b[1;33m             \u001b[0mlogger\u001b[0m\u001b[1;33m.\u001b[0m\u001b[0minfo\u001b[0m\u001b[1;33m(\u001b[0m\u001b[1;34m'Step {} | loss: {:.4f} | Spent:{:.1f} secs | LR:{:.6f}'\u001b[0m\u001b[1;33m.\u001b[0m\u001b[0mformat\u001b[0m\u001b[1;33m(\u001b[0m\u001b[0mglobal_step\u001b[0m\u001b[1;33m,\u001b[0m\u001b[0mloss\u001b[0m\u001b[1;33m.\u001b[0m\u001b[0mnumpy\u001b[0m\u001b[1;33m(\u001b[0m\u001b[1;33m)\u001b[0m\u001b[1;33m.\u001b[0m\u001b[0mitem\u001b[0m\u001b[1;33m(\u001b[0m\u001b[1;33m)\u001b[0m\u001b[1;33m,\u001b[0m\u001b[0mtime\u001b[0m\u001b[1;33m.\u001b[0m\u001b[0mtime\u001b[0m\u001b[1;33m-\u001b[0m\u001b[0mt0\u001b[0m\u001b[1;33m,\u001b[0m\u001b[0moptim\u001b[0m\u001b[1;33m.\u001b[0m\u001b[0mlr\u001b[0m\u001b[1;33m.\u001b[0m\u001b[0mnumpy\u001b[0m\u001b[1;33m(\u001b[0m\u001b[1;33m)\u001b[0m\u001b[1;33m.\u001b[0m\u001b[0mitem\u001b[0m\u001b[1;33m(\u001b[0m\u001b[1;33m)\u001b[0m\u001b[1;33m)\u001b[0m\u001b[1;33m)\u001b[0m\u001b[1;33m\u001b[0m\u001b[1;33m\u001b[0m\u001b[0m\n\u001b[0m\u001b[0;32m     16\u001b[0m             \u001b[0mt0\u001b[0m \u001b[1;33m=\u001b[0m \u001b[0mtime\u001b[0m\u001b[1;33m.\u001b[0m\u001b[0mtime\u001b[0m\u001b[1;33m(\u001b[0m\u001b[1;33m)\u001b[0m\u001b[1;33m\u001b[0m\u001b[1;33m\u001b[0m\u001b[0m\n\u001b[0;32m     17\u001b[0m         \u001b[0mglobal_step\u001b[0m \u001b[1;33m+=\u001b[0m \u001b[1;36m1\u001b[0m\u001b[1;33m\u001b[0m\u001b[1;33m\u001b[0m\u001b[0m\n",
      "\u001b[1;31mTypeError\u001b[0m: unsupported operand type(s) for -: 'builtin_function_or_method' and 'float'"
     ]
    }
   ],
   "source": [
    "while True:\n",
    "    for texts,labels in dataset(is_training=True,params = params):\n",
    "        loss = 0\n",
    "        with tf.GradientTape() as tape:\n",
    "            logits = model(texts,training=True)\n",
    "            loss = tf.nn.sparse_softmax_cross_entropy_with_logits(labels=labels,logits=logits)\n",
    "            loss = tf.reduce_mean(loss)\n",
    "        \n",
    "        optim.lr.assign(decay_lr(global_step))\n",
    "        grads = tape.gradient(loss,model.trainable_variables)\n",
    "        grads,_ = tf.clip_by_global_norm(grads,params['clip_norm'])\n",
    "        optim.apply_gradients(zip(grads,model.trainable_variables))\n",
    "        \n",
    "        if global_step % 50 == 0:\n",
    "            logger.info('Step {} | loss: {:.4f} | Spent:{:.1f} secs | LR:{:.6f}'.format(global_step,loss.numpy().item(),time.time-t0,optim.lr.numpy().item()))\n",
    "            t0 = time.time()\n",
    "        global_step += 1\n",
    "    \n",
    "    m = tf.keras.metrics.Accuracy()\n",
    "    \n",
    "    for texts,labels in dataset(is_training=False,params=params):\n",
    "        logits = model(texts,training=False)\n",
    "        y_pred = tf.argmax(logits,axis=1)\n",
    "        m.update_state(y_true=labels,y_pred=y_pred)\n",
    "        \n",
    "    acc = m.result().numpy()\n",
    "    logger.info(\"Evaluation Testing Accuracy:{:.3f}\".format(acc))\n",
    "    history_acc.append(acc)\n",
    "    \n",
    "    if acc > best_acc:\n",
    "        best_acc = acc\n",
    "    logger.info(\"Best acc:{:.3f}\".format(best_acc))\n",
    "    \n",
    "    if len(history_acc) > params['num_patience'] and is_descending(history_acc):\n",
    "        logger.info(\"Testing Accuracy not improced over {} epochs, Early stop\".format(params['num_patience']))\n",
    "        break"
   ]
  }
 ],
 "metadata": {
  "kernelspec": {
   "display_name": "Python 3",
   "language": "python",
   "name": "python3"
  },
  "language_info": {
   "codemirror_mode": {
    "name": "ipython",
    "version": 3
   },
   "file_extension": ".py",
   "mimetype": "text/x-python",
   "name": "python",
   "nbconvert_exporter": "python",
   "pygments_lexer": "ipython3",
   "version": "3.7.3"
  },
  "toc": {
   "base_numbering": 1,
   "nav_menu": {},
   "number_sections": true,
   "sideBar": true,
   "skip_h1_title": false,
   "title_cell": "Table of Contents",
   "title_sidebar": "Contents",
   "toc_cell": false,
   "toc_position": {
    "height": "calc(100% - 180px)",
    "left": "10px",
    "top": "150px",
    "width": "165px"
   },
   "toc_section_display": true,
   "toc_window_display": true
  }
 },
 "nbformat": 4,
 "nbformat_minor": 2
}
