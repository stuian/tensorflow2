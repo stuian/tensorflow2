{
 "cells": [
  {
   "cell_type": "markdown",
   "metadata": {},
   "source": [
    "# CNN应用于文本分类"
   ]
  },
  {
   "cell_type": "markdown",
   "metadata": {},
   "source": [
    "1、文本数据预处理\n",
    "\n",
    "2、构建卷积模型，注意卷积核大小的设计\n",
    "\n",
    "3、将卷积后的特征图池化成一个特征\n",
    "\n",
    "4、将多个特征拼接成一个，传入全连接层"
   ]
  },
  {
   "cell_type": "code",
   "execution_count": 10,
   "metadata": {},
   "outputs": [],
   "source": [
    "import warnings\n",
    "warnings.filterwarnings('ignore')\n",
    "import numpy as np\n",
    "import matplotlib.pyplot as plt\n",
    "import tensorflow as tf\n",
    "from tensorflow import keras\n",
    "from tensorflow.keras import layers\n",
    "from tensorflow.keras.preprocessing.sequence import pad_sequences"
   ]
  },
  {
   "cell_type": "code",
   "execution_count": 7,
   "metadata": {},
   "outputs": [
    {
     "name": "stdout",
     "output_type": "stream",
     "text": [
      "(25000,)\n",
      "(25000,)\n"
     ]
    }
   ],
   "source": [
    "num_features = 3000\n",
    "sequence_length = 300\n",
    "embedding_dimension=100\n",
    "(x_train,y_train),(x_test,y_test) = tf.keras.datasets.imdb.load_data(num_words=num_features)\n",
    "print(x_train.shape)\n",
    "print(x_test.shape)"
   ]
  },
  {
   "cell_type": "code",
   "execution_count": 11,
   "metadata": {},
   "outputs": [
    {
     "name": "stdout",
     "output_type": "stream",
     "text": [
      "(25000, 300)\n",
      "(25000, 300)\n"
     ]
    }
   ],
   "source": [
    "x_train = pad_sequences(x_train,maxlen=sequence_length)\n",
    "x_test = pad_sequences(x_test,maxlen=sequence_length)\n",
    "print(x_train.shape)\n",
    "print(x_test.shape)"
   ]
  },
  {
   "cell_type": "code",
   "execution_count": 12,
   "metadata": {},
   "outputs": [
    {
     "name": "stdout",
     "output_type": "stream",
     "text": [
      "Model: \"sequential_1\"\n",
      "_________________________________________________________________\n",
      "Layer (type)                 Output Shape              Param #   \n",
      "=================================================================\n",
      "embedding_1 (Embedding)      (None, 300, 100)          300000    \n",
      "_________________________________________________________________\n",
      "reshape_1 (Reshape)          (None, 300, 100, 1)       0         \n",
      "_________________________________________________________________\n",
      "model_1 (Functional)         (None, 1, 1, 192)         76992     \n",
      "_________________________________________________________________\n",
      "flatten_1 (Flatten)          (None, 192)               0         \n",
      "_________________________________________________________________\n",
      "dense_2 (Dense)              (None, 10)                1930      \n",
      "_________________________________________________________________\n",
      "dropout_1 (Dropout)          (None, 10)                0         \n",
      "_________________________________________________________________\n",
      "dense_3 (Dense)              (None, 1)                 11        \n",
      "=================================================================\n",
      "Total params: 378,933\n",
      "Trainable params: 378,933\n",
      "Non-trainable params: 0\n",
      "_________________________________________________________________\n"
     ]
    }
   ],
   "source": [
    "filter_size = [3,4,5]\n",
    "def convolution():\n",
    "    inn = layers.Input(shape=(sequence_length,embedding_dimension,1)) # 输入：300x100x1 \n",
    "    cnns = []\n",
    "    for size in filter_size:\n",
    "        # filters：卷积核个数\n",
    "        conv = layers.Conv2D(filters=64,kernel_size=(size,embedding_dimension),strides=1,padding='valid',activation='relu')(inn)\n",
    "        pool = layers.MaxPool2D(pool_size=(sequence_length-size+1,1),padding='valid')(conv) #pool_size与特征图同等大小\n",
    "        cnns.append(pool) # pool有64个特征\n",
    "    out = layers.concatenate(cnns) # 64x3=192\n",
    "    \n",
    "    model = keras.Model(inputs=inn,outputs=out)\n",
    "    return model\n",
    "        \n",
    "def cnn_mulfilter():\n",
    "    model = keras.Sequential([\n",
    "        # input_dim=num_features : 3000个不同的词\n",
    "        layers.Embedding(input_dim=num_features,output_dim=embedding_dimension,input_length=sequence_length),\n",
    "        layers.Reshape((sequence_length,embedding_dimension,1)),\n",
    "        convolution(),\n",
    "        layers.Flatten(),\n",
    "        layers.Dense(10,activation='relu'),\n",
    "        layers.Dropout(0.2),\n",
    "        layers.Dense(1,activation='sigmoid')\n",
    "    ])\n",
    "    model.compile(optimizer=keras.optimizers.Adam(),loss=keras.losses.BinaryCrossentropy(),metrics=['accuracy'])\n",
    "    return model\n",
    "\n",
    "model = cnn_mulfilter()\n",
    "model.summary()"
   ]
  },
  {
   "cell_type": "code",
   "execution_count": 13,
   "metadata": {},
   "outputs": [
    {
     "name": "stdout",
     "output_type": "stream",
     "text": [
      "Epoch 1/5\n",
      "352/352 [==============================] - 150s 396ms/step - loss: 0.4532 - accuracy: 0.7738 - val_loss: 0.3049 - val_accuracy: 0.8748\n",
      "Epoch 2/5\n",
      "352/352 [==============================] - 128s 364ms/step - loss: 0.2584 - accuracy: 0.8994 - val_loss: 0.2744 - val_accuracy: 0.8884\n",
      "Epoch 3/5\n",
      "352/352 [==============================] - 153s 436ms/step - loss: 0.1765 - accuracy: 0.9390 - val_loss: 0.2801 - val_accuracy: 0.8916\n",
      "Epoch 4/5\n",
      "352/352 [==============================] - 160s 455ms/step - loss: 0.1133 - accuracy: 0.9633 - val_loss: 0.3195 - val_accuracy: 0.8896\n",
      "Epoch 5/5\n",
      "352/352 [==============================] - 158s 449ms/step - loss: 0.0670 - accuracy: 0.9802 - val_loss: 0.3530 - val_accuracy: 0.8884\n"
     ]
    }
   ],
   "source": [
    "history = model.fit(x_train,y_train,batch_size=64,epochs=5,validation_split=0.1)"
   ]
  },
  {
   "cell_type": "code",
   "execution_count": null,
   "metadata": {},
   "outputs": [],
   "source": [
    "plt.plot(history.history['accuracy'])\n",
    "plt.plot(history.history['val_accuracy'])\n",
    "plt.legend(['training','validation'],loc='upper left')\n",
    "plt.show()"
   ]
  }
 ],
 "metadata": {
  "kernelspec": {
   "display_name": "Python 3",
   "language": "python",
   "name": "python3"
  },
  "language_info": {
   "codemirror_mode": {
    "name": "ipython",
    "version": 3
   },
   "file_extension": ".py",
   "mimetype": "text/x-python",
   "name": "python",
   "nbconvert_exporter": "python",
   "pygments_lexer": "ipython3",
   "version": "3.7.3"
  },
  "toc": {
   "base_numbering": 1,
   "nav_menu": {},
   "number_sections": true,
   "sideBar": true,
   "skip_h1_title": false,
   "title_cell": "Table of Contents",
   "title_sidebar": "Contents",
   "toc_cell": false,
   "toc_position": {},
   "toc_section_display": true,
   "toc_window_display": false
  }
 },
 "nbformat": 4,
 "nbformat_minor": 2
}
